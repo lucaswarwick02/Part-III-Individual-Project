{
 "cells": [
  {
   "cell_type": "code",
   "execution_count": 67,
   "metadata": {},
   "outputs": [],
   "source": [
    "import math\n",
    "import numpy as np"
   ]
  },
  {
   "cell_type": "code",
   "execution_count": 68,
   "metadata": {},
   "outputs": [],
   "source": [
    "def number_of_stubs (nodes_per_prob):\n",
    "    stubs = 0\n",
    "    for i in range(0, len(nodes_per_prob)):\n",
    "        stubs += (i + 1) * nodes_per_prob[i]\n",
    "    return stubs\n",
    "\n",
    "def poisson (z: int, k: int) -> float:\n",
    "    return ((math.pow(z, k)) * (math.exp(-z))) / math.factorial(k)\n",
    "\n",
    "def generate_degree_sequence (z: int, population: int, max_degree: int):\n",
    "    probabilities = [poisson(z, k) for k in range(1, max_degree)]\n",
    "    nodes_per_prob = [math.ceil(p * 1000) for p in probabilities]\n",
    "    print(f'Stubs Before = {number_of_stubs(nodes_per_prob)}')\n",
    "    print(f'Nodes left to populate = {population - np.sum(nodes_per_prob)}')\n",
    "    nodes_left = population - np.sum(nodes_per_prob)\n",
    "    average_degree = round(np.sum([k * ((math.pow(z, k)) * (math.exp(-z))) / math.factorial(k) for k in range(1, max_degree)]))\n",
    "    while nodes_left > 0:\n",
    "        if (nodes_left == 1):\n",
    "            if (number_of_stubs(nodes_per_prob) + average_degree) % 2 == 0:\n",
    "                # No stubs left over\n",
    "                nodes_per_prob[average_degree - 1] += 1\n",
    "            else:\n",
    "                # 1 Stub left over, add 1 to average degree\n",
    "                nodes_per_prob[average_degree] += 1\n",
    "        else:\n",
    "            nodes_per_prob[average_degree - 1] += 1 # Add the node into the distribution\n",
    "        nodes_left -= 1\n",
    "        \n",
    "    return nodes_per_prob"
   ]
  },
  {
   "cell_type": "code",
   "execution_count": 69,
   "metadata": {},
   "outputs": [
    {
     "name": "stdout",
     "output_type": "stream",
     "text": [
      "Stubs Before = 4147\n",
      "Nodes left to populate = 505\n",
      "1: 74\n",
      "2: 147\n",
      "3: 196\n",
      "4: 700\n",
      "5: 158\n",
      "6: 105\n",
      "7: 60\n",
      "8: 30\n",
      "9: 14\n",
      "10: 6\n",
      "11: 2\n",
      "12: 1\n",
      "13: 1\n",
      "14: 1\n",
      "15: 1\n",
      "16: 1\n",
      "17: 1\n",
      "18: 1\n",
      "19: 1\n"
     ]
    }
   ],
   "source": [
    "z = 4\n",
    "population = 1500\n",
    "max_degree = 20\n",
    "\n",
    "degree_sequence = generate_degree_sequence(z, population, max_degree)\n",
    "\n",
    "for k in range(1, max_degree):\n",
    "    print(f'{k}: {degree_sequence[k - 1]}')"
   ]
  },
  {
   "cell_type": "code",
   "execution_count": 70,
   "metadata": {},
   "outputs": [
    {
     "data": {
      "text/plain": [
       "1500"
      ]
     },
     "execution_count": 70,
     "metadata": {},
     "output_type": "execute_result"
    }
   ],
   "source": [
    "np.sum(degree_sequence)"
   ]
  },
  {
   "cell_type": "code",
   "execution_count": 71,
   "metadata": {},
   "outputs": [
    {
     "data": {
      "text/plain": [
       "True"
      ]
     },
     "execution_count": 71,
     "metadata": {},
     "output_type": "execute_result"
    }
   ],
   "source": [
    "number_of_stubs(degree_sequence) % 2 == 0"
   ]
  },
  {
   "cell_type": "code",
   "execution_count": null,
   "metadata": {},
   "outputs": [],
   "source": []
  }
 ],
 "metadata": {
  "kernelspec": {
   "display_name": "Python 3.10.6 ('mlt-coursework')",
   "language": "python",
   "name": "python3"
  },
  "language_info": {
   "codemirror_mode": {
    "name": "ipython",
    "version": 3
   },
   "file_extension": ".py",
   "mimetype": "text/x-python",
   "name": "python",
   "nbconvert_exporter": "python",
   "pygments_lexer": "ipython3",
   "version": "3.10.6"
  },
  "orig_nbformat": 4,
  "vscode": {
   "interpreter": {
    "hash": "0446d56db2de380e468137f4a05a16f343c34613ba4e4595cef15e20f02e1e54"
   }
  }
 },
 "nbformat": 4,
 "nbformat_minor": 2
}
