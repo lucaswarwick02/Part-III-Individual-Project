{
 "cells": [
  {
   "attachments": {},
   "cell_type": "markdown",
   "metadata": {},
   "source": [
    "# Setup"
   ]
  },
  {
   "cell_type": "code",
   "execution_count": 6,
   "metadata": {},
   "outputs": [],
   "source": [
    "import pandas as pd\n",
    "import numpy as np\n",
    "import os"
   ]
  },
  {
   "cell_type": "code",
   "execution_count": 10,
   "metadata": {},
   "outputs": [],
   "source": [
    "def measure_flatness (run_folder: str):\n",
    "    run_folder_path = os.path.join(os.path.abspath('../'), 'records', run_folder)\n",
    "    \n",
    "    states_df = pd.read_csv(os.path.join(run_folder_path, 'states.csv'))\n",
    "    \n",
    "    print(f'### {run_folder} ###')\n",
    "    \n",
    "    print(f\"... Spread (sd) = {np.std(states_df['Hospitalised'].values)}\")\n",
    "    print(f\"... Peak (max) = {max(states_df['Hospitalised'].values)}\")"
   ]
  },
  {
   "attachments": {},
   "cell_type": "markdown",
   "metadata": {},
   "source": [
    "# Results"
   ]
  },
  {
   "cell_type": "code",
   "execution_count": 11,
   "metadata": {},
   "outputs": [
    {
     "name": "stdout",
     "output_type": "stream",
     "text": [
      "### er_baseline ###\n",
      "... Spread (sd) = 0.01571284735545119\n",
      "... Peak (max) = 0.0539125\n"
     ]
    }
   ],
   "source": [
    "measure_flatness('er_baseline')"
   ]
  },
  {
   "cell_type": "code",
   "execution_count": 12,
   "metadata": {},
   "outputs": [
    {
     "name": "stdout",
     "output_type": "stream",
     "text": [
      "### ba_baseline ###\n",
      "... Spread (sd) = 0.01546317233439933\n",
      "... Peak (max) = 0.0535616666666666\n"
     ]
    }
   ],
   "source": [
    "measure_flatness('ba_baseline')"
   ]
  },
  {
   "cell_type": "code",
   "execution_count": null,
   "metadata": {},
   "outputs": [],
   "source": []
  }
 ],
 "metadata": {
  "kernelspec": {
   "display_name": "network-models",
   "language": "python",
   "name": "python3"
  },
  "language_info": {
   "codemirror_mode": {
    "name": "ipython",
    "version": 3
   },
   "file_extension": ".py",
   "mimetype": "text/x-python",
   "name": "python",
   "nbconvert_exporter": "python",
   "pygments_lexer": "ipython3",
   "version": "3.10.6"
  },
  "orig_nbformat": 4
 },
 "nbformat": 4,
 "nbformat_minor": 2
}
