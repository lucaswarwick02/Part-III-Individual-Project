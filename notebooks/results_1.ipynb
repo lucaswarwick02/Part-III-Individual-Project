{
 "cells": [
  {
   "attachments": {},
   "cell_type": "markdown",
   "metadata": {},
   "source": [
    "# Setup"
   ]
  },
  {
   "cell_type": "code",
   "execution_count": 1,
   "metadata": {},
   "outputs": [],
   "source": [
    "import pandas as pd\n",
    "import os\n",
    "import re\n",
    "import matplotlib.pyplot as plt\n",
    "import numpy as np\n",
    "\n",
    "\n",
    "plt.style.use('seaborn')"
   ]
  },
  {
   "cell_type": "code",
   "execution_count": null,
   "metadata": {},
   "outputs": [],
   "source": [
    "def plot_results (run_folder: str, strategy: str):\n",
    "    run_folder_path = os.path.join(os.path.abspath('../'), 'records', run_folder)\n",
    "    \n",
    "    results = {\n",
    "        'Infected': {\n",
    "            'Color': 'red',\n",
    "            'Totals': [],\n",
    "            'STD': [] \n",
    "        },\n",
    "        'Hospitalised': {\n",
    "            'Color': 'green',\n",
    "            'Totals': [],\n",
    "            'STD': [] \n",
    "        },\n",
    "        'Dead': {\n",
    "            'Color': 'blue',\n",
    "            'Totals': [],\n",
    "            'STD': [] \n",
    "        },\n",
    "    }\n",
    "    \n",
    "    for filename in os.listdir(run_folder_path):\n",
    "        filename_path = os.path.join(run_folder_path, filename)\n",
    "        match = re.match(r'[a-zA-Z]+\\(\\d+\\,\\s(\\d+\\.\\d+)\\)', filename)\n",
    "        \n",
    "        if match is None:\n",
    "            continue\n",
    "        \n",
    "        rho = float(match.groups()[0])\n",
    "        \n",
    "        totals_df = pd.read_csv(os.path.join(filename_path, 'totals.csv'))\n",
    "        \n",
    "        for key in results.keys():\n",
    "            results[key]['Totals'].append((rho, totals_df.iloc[-1][key]))\n",
    "            results[key]['STD'].append((rho, totals_df.iloc[-1][key + '_STD']))\n",
    "        \n",
    "    for key in results.keys():\n",
    "        results[key]['Totals'].sort()\n",
    "    \n",
    "    fig, axes = plt.subplots(nrows=1, ncols=3, figsize=(6*3, 4))\n",
    "    \n",
    "    # * Subplot 1 = Final Totals vs Rhos\n",
    "    for key in results.keys():\n",
    "        X = [x for x, _ in results[key]['Totals']]\n",
    "        y = [y for _, y in results[key]['Totals']]\n",
    "        yerr = [y for _, y in results[key]['STD']]\n",
    "        \n",
    "        # axes[0].errorbar(X, y, yerr=yerr, fmt=\"o\", label=key)\n",
    "        axes[0].scatter(X, y, label=key)\n",
    "        axes[0].plot(X, y, alpha=0.25)\n",
    "    \n",
    "    axes[0].set_xlim(0, 1)\n",
    "    axes[0].set_ylim(-0.025, 1)\n",
    "    axes[0].set_title('Rhos vs State Totals')\n",
    "    axes[0].set_xlabel('Percentage of Population Vaccinateed, ρ')\n",
    "    axes[0].set_ylabel('Total Percentage of Population')\n",
    "    axes[0].legend()\n",
    "    \n",
    "    # * Subplot 2 = Epidemic Thresholds for different rhos\n",
    "    critical_folder_path = os.path.join(os.path.abspath('../'), 'records', 'critical_'+run_folder)\n",
    "    for filename in os.listdir(critical_folder_path):\n",
    "        filename_path = os.path.join(critical_folder_path, filename)\n",
    "        match = re.match(r'(?:[A-Z]+\\_)+\\d+\\_(\\d+\\.\\d+)', filename)\n",
    "        \n",
    "        if match is None:\n",
    "            continue\n",
    "        \n",
    "        rho = float(match.groups(0)[0])\n",
    "        results_df = pd.read_csv(filename_path)\n",
    "        \n",
    "        Xy = list(zip(results_df['InfectionRate'].values, results_df['TotalInfected'].values))\n",
    "        Xy.sort()\n",
    "        \n",
    "        axes[1].scatter([x for x, _ in Xy], [y for _, y in Xy], label=f'rho={rho:.3f}')\n",
    "        axes[1].plot([x for x, _ in Xy], [y for _, y in Xy], alpha=0.25)\n",
    "        axes[1].legend()\n",
    "        \n",
    "    axes[1].set_title('Infection Rate vs Total Infections')\n",
    "    axes[1].set_xlabel('Infection Rate, β')\n",
    "    axes[1].set_ylabel('Total Infections')\n",
    "    \n",
    "    # * Subplot 3 = 'Flatness' measure\n",
    "    peak_results = []\n",
    "    spread_results = []\n",
    "    \n",
    "    for filename in os.listdir(run_folder_path):\n",
    "        filename_path = os.path.join(run_folder_path, filename)\n",
    "        match = re.match(r'[a-zA-Z]+\\(\\d+\\,\\s(\\d+\\.\\d+)\\)', filename)\n",
    "        \n",
    "        if match is None:\n",
    "            continue\n",
    "        \n",
    "        rho = float(match.groups()[0])\n",
    "        \n",
    "        states_df = pd.read_csv(os.path.join(filename_path, 'states.csv'))\n",
    "        \n",
    "        spread_results.append((rho, np.std(states_df['Hospitalised'].values))) \n",
    "        peak_results.append((rho, max(states_df['Hospitalised'].values)))\n",
    "         \n",
    "    spread_results.sort()\n",
    "    peak_results.sort()\n",
    "    \n",
    "    axes[2].plot([x for x, _ in spread_results], [y for _, y in spread_results], label='Spread of curve')\n",
    "    axes[2].plot([x for x, _ in peak_results], [y for _, y in peak_results], label='Peak of curve')\n",
    "    axes[2].set_title(\"Rhos vs 'Flatness' of Hospitalised Curve\")\n",
    "    axes[2].set_xlabel('Percentage of Population Vaccinateed, ρ')\n",
    "    axes[2].set_ylabel(\"'Flatness' of Hospitalised Curve\")\n",
    "    \n",
    "    axes[2].legend()\n",
    "    \n",
    "    plt.show()"
   ]
  },
  {
   "attachments": {},
   "cell_type": "markdown",
   "metadata": {},
   "source": [
    "# Section 1"
   ]
  },
  {
   "cell_type": "code",
   "execution_count": null,
   "metadata": {},
   "outputs": [],
   "source": [
    "plot_results('section_1a', 'RandomOneOff')"
   ]
  },
  {
   "cell_type": "code",
   "execution_count": null,
   "metadata": {},
   "outputs": [],
   "source": [
    "plot_results('section_1b', 'RandomOneOff')"
   ]
  },
  {
   "attachments": {},
   "cell_type": "markdown",
   "metadata": {},
   "source": [
    "# Section 2"
   ]
  },
  {
   "cell_type": "code",
   "execution_count": null,
   "metadata": {},
   "outputs": [],
   "source": [
    "plot_results('section_2a', 'HighestOneOff')"
   ]
  },
  {
   "cell_type": "code",
   "execution_count": null,
   "metadata": {},
   "outputs": [],
   "source": [
    "plot_results('section_2b', 'LowestOneOff')"
   ]
  },
  {
   "attachments": {},
   "cell_type": "markdown",
   "metadata": {},
   "source": [
    "# Section 3"
   ]
  },
  {
   "cell_type": "code",
   "execution_count": null,
   "metadata": {},
   "outputs": [],
   "source": [
    "plot_results('section_3a', 'OldestOneOff')"
   ]
  },
  {
   "cell_type": "code",
   "execution_count": null,
   "metadata": {},
   "outputs": [],
   "source": [
    "plot_results('section_3b', 'YoungestOneOff')"
   ]
  }
 ],
 "metadata": {
  "kernelspec": {
   "display_name": "network-models",
   "language": "python",
   "name": "python3"
  },
  "language_info": {
   "codemirror_mode": {
    "name": "ipython",
    "version": 3
   },
   "file_extension": ".py",
   "mimetype": "text/x-python",
   "name": "python",
   "nbconvert_exporter": "python",
   "pygments_lexer": "ipython3",
   "version": "3.10.6"
  },
  "orig_nbformat": 4,
  "vscode": {
   "interpreter": {
    "hash": "a159ba86eae5431afbd9582b9ed364ea2fcf085e8b4e6ef55804f3a67bdfd846"
   }
  }
 },
 "nbformat": 4,
 "nbformat_minor": 2
}
