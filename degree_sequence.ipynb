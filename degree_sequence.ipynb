{
 "cells": [
  {
   "cell_type": "code",
   "execution_count": 109,
   "metadata": {},
   "outputs": [],
   "source": [
    "import math\n",
    "import numpy as np"
   ]
  },
  {
   "cell_type": "code",
   "execution_count": 110,
   "metadata": {},
   "outputs": [],
   "source": [
    "def number_of_stubs (nodes_per_prob):\n",
    "    stubs = 0\n",
    "    for i in range(0, len(nodes_per_prob)):\n",
    "        stubs += (i + 1) * nodes_per_prob[i]\n",
    "    return stubs\n",
    "\n",
    "def polylogarithm (s: float, z: float, precision=100) -> float:\n",
    "    power_sum = 0\n",
    "    for k in range(1, precision):\n",
    "        power_sum += math.pow(z, k) / math.pow(k, s)\n",
    "    return power_sum\n",
    "\n",
    "def poisson (k: int, z: float) -> float:\n",
    "    return ((math.pow(z, k)) * (math.exp(-z))) / math.factorial(k)\n",
    "\n",
    "def powerlaw (k: int, gamma: float, kappa: float):\n",
    "    return (math.pow(k, -gamma) * math.exp(-k / kappa)) / polylogarithm(gamma, math.exp(-1 / kappa))\n",
    "\n",
    "def generate_poisson_sequence (z: int, population: int, max_degree: int):\n",
    "    probabilities = [poisson(k, z) for k in range(1, max_degree)]  # Poisson Distribution\n",
    "    \n",
    "    nodes_per_prob = [math.ceil(p * population) for p in probabilities]\n",
    "    print(f'Stubs Before = {number_of_stubs(nodes_per_prob)}')\n",
    "    print(f'Nodes left to populate = {population - np.sum(nodes_per_prob)}')\n",
    "    nodes_left = population - np.sum(nodes_per_prob)\n",
    "    average_degree = round(np.sum([k * poisson(k, z) for k in range(1, max_degree)]))  # Poisson Distribution\n",
    "    while nodes_left > 0:\n",
    "        if (nodes_left == 1):\n",
    "            if (number_of_stubs(nodes_per_prob) + average_degree) % 2 == 0:\n",
    "                # No stubs left over\n",
    "                nodes_per_prob[average_degree - 1] += 1\n",
    "            else:\n",
    "                # 1 Stub left over, add 1 to average degree\n",
    "                nodes_per_prob[average_degree] += 1\n",
    "        else:\n",
    "            nodes_per_prob[average_degree - 1] += 1 # Add the node into the distribution\n",
    "        nodes_left -= 1\n",
    "        \n",
    "    return nodes_per_prob\n",
    "\n",
    "def generate_powerlaw_sequence (kappa: int, population: int):\n",
    "    probabilities = [powerlaw(k, gamma=2, kappa=kappa) for k in range(1, kappa)]  # Power-Law Distribution\n",
    "    \n",
    "    nodes_per_prob = [math.ceil(p * population) for p in probabilities]\n",
    "    nodes_left = population - np.sum(nodes_per_prob)\n",
    "    average_degree = round(np.sum([k * powerlaw(k, gamma=2, kappa=kappa) for k in range(1, kappa)]))  # Power-Law Distribution\n",
    "    print(f'Nodes Left: {nodes_left}')\n",
    "    while nodes_left > 0:\n",
    "        if (nodes_left == 1):\n",
    "            if (number_of_stubs(nodes_per_prob) + average_degree) % 2 == 0:\n",
    "                # No stubs left over\n",
    "                nodes_per_prob[average_degree - 1] += 1\n",
    "            else:\n",
    "                # 1 Stub left over, add 1 to average degree\n",
    "                nodes_per_prob[average_degree] += 1\n",
    "        else:\n",
    "            nodes_per_prob[average_degree - 1] += 1 # Add the node into the distribution\n",
    "        nodes_left -= 1\n",
    "        \n",
    "    return nodes_per_prob"
   ]
  },
  {
   "cell_type": "code",
   "execution_count": 116,
   "metadata": {},
   "outputs": [
    {
     "name": "stdout",
     "output_type": "stream",
     "text": [
      "Nodes Left: 6\n",
      "1: 1005\n",
      "2: 241\n",
      "3: 98\n",
      "4: 52\n",
      "5: 31\n",
      "6: 20\n",
      "7: 14\n",
      "8: 10\n",
      "9: 8\n",
      "10: 6\n",
      "11: 5\n",
      "12: 4\n",
      "13: 3\n",
      "14: 3\n"
     ]
    }
   ],
   "source": [
    "z = 4\n",
    "kappa = 15\n",
    "population = 1500\n",
    "max_degree = 15\n",
    "\n",
    "# degree_sequence = generate_poisson_sequence(z, population, max_degree)\n",
    "degree_sequence = generate_powerlaw_sequence(kappa, population)\n",
    "\n",
    "for k in range(1, max_degree):\n",
    "    print(f'{k}: {degree_sequence[k - 1]}')"
   ]
  },
  {
   "cell_type": "code",
   "execution_count": 118,
   "metadata": {},
   "outputs": [
    {
     "data": {
      "text/plain": [
       "True"
      ]
     },
     "execution_count": 118,
     "metadata": {},
     "output_type": "execute_result"
    }
   ],
   "source": [
    "# Check number of stubs is even\n",
    "np.sum([k * degree_sequence[k - 1] for k in range(1, max_degree)]) % 2 == 0"
   ]
  },
  {
   "cell_type": "code",
   "execution_count": 119,
   "metadata": {},
   "outputs": [
    {
     "data": {
      "text/plain": [
       "True"
      ]
     },
     "execution_count": 119,
     "metadata": {},
     "output_type": "execute_result"
    }
   ],
   "source": [
    "# Check number of nodes is equal to the population\n",
    "np.sum(degree_sequence) == population"
   ]
  },
  {
   "cell_type": "code",
   "execution_count": null,
   "metadata": {},
   "outputs": [],
   "source": []
  }
 ],
 "metadata": {
  "kernelspec": {
   "display_name": "Python 3.10.6 ('network-models')",
   "language": "python",
   "name": "python3"
  },
  "language_info": {
   "codemirror_mode": {
    "name": "ipython",
    "version": 3
   },
   "file_extension": ".py",
   "mimetype": "text/x-python",
   "name": "python",
   "nbconvert_exporter": "python",
   "pygments_lexer": "ipython3",
   "version": "3.10.6"
  },
  "orig_nbformat": 4,
  "vscode": {
   "interpreter": {
    "hash": "a159ba86eae5431afbd9582b9ed364ea2fcf085e8b4e6ef55804f3a67bdfd846"
   }
  }
 },
 "nbformat": 4,
 "nbformat_minor": 2
}
